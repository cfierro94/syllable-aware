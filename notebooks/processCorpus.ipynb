{
  "nbformat": 4,
  "nbformat_minor": 0,
  "metadata": {
    "colab": {
      "name": "processCorpus.ipynb",
      "version": "0.3.2",
      "views": {},
      "default_view": {},
      "provenance": [],
      "collapsed_sections": []
    }
  },
  "cells": [
    {
      "metadata": {
        "id": "eRu8o-VKXTRA",
        "colab_type": "text"
      },
      "cell_type": "markdown",
      "source": [
        "# Clone Github"
      ]
    },
    {
      "metadata": {
        "id": "0xG8rPS6XF_9",
        "colab_type": "code",
        "colab": {
          "autoexec": {
            "startup": false,
            "wait_interval": 0
          },
          "output_extras": [
            {
              "item_id": 1
            }
          ],
          "base_uri": "https://localhost:8080/",
          "height": 34
        },
        "outputId": "087133da-9e7c-4600-a5e3-76aaa40e4eb3",
        "executionInfo": {
          "status": "ok",
          "timestamp": 1519195207520,
          "user_tz": 180,
          "elapsed": 1652,
          "user": {
            "displayName": "Diego Valenzuela",
            "photoUrl": "//lh6.googleusercontent.com/-yC1S3sINJo8/AAAAAAAAAAI/AAAAAAAAAWQ/KjmnqiX4R_0/s50-c-k-no/photo.jpg",
            "userId": "105237571791367820180"
          }
        }
      },
      "cell_type": "code",
      "source": [
        "import os\n",
        "#print(os.getcwd())\n",
        "os.chdir('../content')\n",
        "#os.chdir('../')\n",
        "!ls"
      ],
      "execution_count": 1,
      "outputs": [
        {
          "output_type": "stream",
          "text": [
            "datalab  syllable-aware\r\n"
          ],
          "name": "stdout"
        }
      ]
    },
    {
      "metadata": {
        "id": "FJ53opEuXUs4",
        "colab_type": "code",
        "colab": {
          "autoexec": {
            "startup": false,
            "wait_interval": 0
          },
          "output_extras": [
            {
              "item_id": 1
            }
          ],
          "base_uri": "https://localhost:8080/",
          "height": 34
        },
        "outputId": "88bca002-12df-41da-acb8-eb09efee27be",
        "executionInfo": {
          "status": "ok",
          "timestamp": 1519195210528,
          "user_tz": 180,
          "elapsed": 2501,
          "user": {
            "displayName": "Diego Valenzuela",
            "photoUrl": "//lh6.googleusercontent.com/-yC1S3sINJo8/AAAAAAAAAAI/AAAAAAAAAWQ/KjmnqiX4R_0/s50-c-k-no/photo.jpg",
            "userId": "105237571791367820180"
          }
        }
      },
      "cell_type": "code",
      "source": [
        "!rm -R syllable-aware/\n",
        "!ls"
      ],
      "execution_count": 2,
      "outputs": [
        {
          "output_type": "stream",
          "text": [
            "datalab\r\n"
          ],
          "name": "stdout"
        }
      ]
    },
    {
      "metadata": {
        "id": "ILaTaEpmXWra",
        "colab_type": "code",
        "colab": {
          "autoexec": {
            "startup": false,
            "wait_interval": 0
          },
          "output_extras": [
            {
              "item_id": 4
            }
          ],
          "base_uri": "https://localhost:8080/",
          "height": 139
        },
        "outputId": "e9787b69-20f6-49a0-eb2e-74bea6f10ce6",
        "executionInfo": {
          "status": "ok",
          "timestamp": 1519195215233,
          "user_tz": 180,
          "elapsed": 4101,
          "user": {
            "displayName": "Diego Valenzuela",
            "photoUrl": "//lh6.googleusercontent.com/-yC1S3sINJo8/AAAAAAAAAAI/AAAAAAAAAWQ/KjmnqiX4R_0/s50-c-k-no/photo.jpg",
            "userId": "105237571791367820180"
          }
        }
      },
      "cell_type": "code",
      "source": [
        "!git clone https://github.com/nlpchile/syllable-aware.git\n",
        "!ls"
      ],
      "execution_count": 3,
      "outputs": [
        {
          "output_type": "stream",
          "text": [
            "Cloning into 'syllable-aware'...\n",
            "remote: Counting objects: 523, done.\u001b[K\n",
            "remote: Compressing objects: 100% (137/137), done.\u001b[K\n",
            "remote: Total 523 (delta 77), reused 40 (delta 11), pack-reused 375\u001b[K\n",
            "Receiving objects: 100% (523/523), 4.66 MiB | 33.62 MiB/s, done.\n",
            "Resolving deltas: 100% (312/312), done.\n",
            "datalab  syllable-aware\n"
          ],
          "name": "stdout"
        }
      ]
    },
    {
      "metadata": {
        "id": "wcDbzMgCXX5w",
        "colab_type": "code",
        "colab": {
          "autoexec": {
            "startup": false,
            "wait_interval": 0
          },
          "output_extras": [
            {
              "item_id": 1
            }
          ],
          "base_uri": "https://localhost:8080/",
          "height": 121
        },
        "outputId": "a01ff7b9-634b-416b-d167-7a232f89f7b7",
        "executionInfo": {
          "status": "ok",
          "timestamp": 1519195216764,
          "user_tz": 180,
          "elapsed": 1366,
          "user": {
            "displayName": "Diego Valenzuela",
            "photoUrl": "//lh6.googleusercontent.com/-yC1S3sINJo8/AAAAAAAAAAI/AAAAAAAAAWQ/KjmnqiX4R_0/s50-c-k-no/photo.jpg",
            "userId": "105237571791367820180"
          }
        }
      },
      "cell_type": "code",
      "source": [
        "import os\n",
        "os.chdir('syllable-aware')\n",
        "!ls"
      ],
      "execution_count": 4,
      "outputs": [
        {
          "output_type": "stream",
          "text": [
            "calculate_Lmax.py     LSTM_CLASS.ipynb\t\t   process_text.py\r\n",
            "callback_losswise.py  lstmClass.py\t\t   README.md\r\n",
            "data\t\t      LSTM.py\t\t\t   separadorSilabas.py\r\n",
            "generate_percent.py   on_epoch_end AND sample.txt  test_perplexity.py\r\n",
            "generators.py\t      perplexity.py\t\t   test_tokens_selectors.py\r\n",
            "kmp.py\t\t      process_corpus.py\t\t   token_selectors.py\r\n"
          ],
          "name": "stdout"
        }
      ]
    },
    {
      "metadata": {
        "id": "gZkxIszx_4Ft",
        "colab_type": "text"
      },
      "cell_type": "markdown",
      "source": [
        "# Silabas.py + # coding=utf-8"
      ]
    },
    {
      "metadata": {
        "id": "vfcC4vz-_8Sa",
        "colab_type": "code",
        "colab": {
          "autoexec": {
            "startup": false,
            "wait_interval": 0
          },
          "output_extras": [
            {
              "item_id": 1
            }
          ],
          "base_uri": "https://localhost:8080/",
          "height": 34
        },
        "outputId": "197d463b-f7e1-4d2c-c195-320df23f8a0f",
        "executionInfo": {
          "status": "ok",
          "timestamp": 1519195218909,
          "user_tz": 180,
          "elapsed": 1149,
          "user": {
            "displayName": "Diego Valenzuela",
            "photoUrl": "//lh6.googleusercontent.com/-yC1S3sINJo8/AAAAAAAAAAI/AAAAAAAAAWQ/KjmnqiX4R_0/s50-c-k-no/photo.jpg",
            "userId": "105237571791367820180"
          }
        }
      },
      "cell_type": "code",
      "source": [
        "%%writefile Silabas.py\n",
        "\n",
        "# coding=utf-8\n",
        "\n",
        "def silabas(word, sep='-'):\n",
        "    '''Devuelve la palabra introducida separada en silabas\n",
        "    separadas por el caracter 'sep', por defecto '-'.\n",
        "    No introducir signos de puntuacion.'''\n",
        "    word = word.lower()\n",
        "    l = ['r','l']\n",
        "    o = ['p','b','f','t','d','c','k','g']\n",
        "    c = ['b','c','ch','d','f','g','h','j','k','l','ll','m','n','ñ','p','q','r','rr','s','t','v','x','y','z']\n",
        "    a = ['a','e','o','á','é','ó','í','ú']\n",
        "    i = ['i','u','ü']\n",
        "    letras = []\n",
        "    estructura = ''\n",
        "    j = 0\n",
        "\n",
        "    # fix\n",
        "    if word in c and word != 'y':\n",
        "        raise TypeError(\"Estructura de sílaba incorrecta en la palabra {0}\".format(word))\n",
        "\n",
        "    while j < len(word):\n",
        "        if j == 0:\n",
        "            if word[j] == 'p' and word[j+1] == 's':\n",
        "                letras.append('ps')\n",
        "                estructura += 'C'\n",
        "                j += 2\n",
        "                continue\n",
        "            elif word[j] == 'p' and word[j+1] == 'n':\n",
        "                letras.append('pn')\n",
        "                estructura += 'C'\n",
        "                j += 2\n",
        "                continue\n",
        "            elif word[j] == 'p' and word[j+1] == 't':\n",
        "                letras.append('pt')\n",
        "                estructura += 'C'\n",
        "                j += 2\n",
        "                continue\n",
        "            elif word[j] == 'g' and word[j+1] == 'n':\n",
        "                letras.append('gn')\n",
        "                estructura += 'C'\n",
        "                j += 2\n",
        "                continue\n",
        "        if j < len(word) - 1:\n",
        "            if word[j] == 'c' and word[j+1] == 'h':\n",
        "                letras.append('ch')\n",
        "                estructura += 'C'\n",
        "                j += 2\n",
        "                continue\n",
        "            elif word[j] == 'l' and word[j+1] == 'l':\n",
        "                letras.append('ll')\n",
        "                estructura += 'C'\n",
        "                j += 2\n",
        "                continue\n",
        "            elif word[j] == 'r' and word[j+1] == 'r':\n",
        "                letras.append('rr')\n",
        "                estructura += 'C'\n",
        "                j += 2\n",
        "                continue\n",
        "        if word[j] in a:\n",
        "            letras.append(word[j])\n",
        "            estructura += 'A'\n",
        "            j += 1\n",
        "            continue\n",
        "        elif word[j] in i:\n",
        "            letras.append(word[j])\n",
        "            estructura += 'I'\n",
        "            j += 1\n",
        "            continue\n",
        "        elif word[j] in l:\n",
        "            letras.append(word[j])\n",
        "            estructura += 'L'\n",
        "            j += 1\n",
        "            continue\n",
        "        elif word[j] in o:\n",
        "            letras.append(word[j])\n",
        "            estructura += 'O'\n",
        "            j += 1\n",
        "            continue\n",
        "        elif word[j] in c:\n",
        "            letras.append(word[j])\n",
        "            estructura += 'C'\n",
        "            j += 1\n",
        "            continue\n",
        "        else:\n",
        "            raise TypeError(\"No se reconoce el carácter '{0}' como una letra del castellano.\".format(word[j]))\n",
        "    estructura += 'C'\n",
        "    letras.append('')\n",
        "    salida = []\n",
        "    j = 0\n",
        "    silaba = ''\n",
        "    while j < len(letras):\n",
        "        if letras[j] == '':\n",
        "            break\n",
        "        silaba += letras[j]\n",
        "        if estructura[j] == 'A':\n",
        "            if estructura[j+1] == 'A':\n",
        "                salida.append(silaba)\n",
        "                silaba = ''\n",
        "                j+=1\n",
        "                continue\n",
        "            elif estructura[j+1] == 'I':\n",
        "                j+=1\n",
        "                continue\n",
        "            elif estructura[j+1] == 'O':\n",
        "                if estructura[j+2] in 'AIL':\n",
        "                    if letras[j+1] == 'd' and letras[j+2] == 'l':\n",
        "                        salida.append(silaba + letras[j+1])\n",
        "                        silaba = ''\n",
        "                        j += 2\n",
        "                        continue\n",
        "                    salida.append(silaba)\n",
        "                    silaba = ''\n",
        "                    j+=1\n",
        "                    continue\n",
        "                else:\n",
        "                    if letras[j+2] == 's' and estructura[j+3] in 'LCO':\n",
        "                        salida.append(silaba + letras[j+1] + letras[j+2])\n",
        "                        silaba = ''\n",
        "                        j += 3\n",
        "                        continue\n",
        "                    salida.append(silaba + letras[j+1])\n",
        "                    silaba = ''\n",
        "                    j += 2\n",
        "                    continue\n",
        "            else:\n",
        "                if j+2 < len(letras):\n",
        "                    if estructura[j+2] in 'AI':\n",
        "                        salida.append(silaba)\n",
        "                        silaba = ''\n",
        "                        j+=1\n",
        "                        continue\n",
        "                    else:\n",
        "                        if letras[j+2] == 's' and estructura[j+3] in 'LCO':\n",
        "                            salida.append(silaba + letras[j+1] + letras[j+2])\n",
        "                            silaba = ''\n",
        "                            j += 3\n",
        "                            continue\n",
        "                        salida.append(silaba + letras[j+1])\n",
        "                        silaba = ''\n",
        "                        j += 2\n",
        "                        continue\n",
        "                else:\n",
        "                    salida.append(silaba + letras[j+1])\n",
        "                    silaba = ''\n",
        "                    j += 2\n",
        "                    continue\n",
        "        elif estructura[j] == 'I':\n",
        "            if estructura[j+1] in 'AI':\n",
        "                j+=1\n",
        "                continue\n",
        "            elif estructura[j+1] == 'O':\n",
        "                if estructura[j+2] in 'AIL':\n",
        "                    if letras[j+1] == 'd' and letras[j+2] == 'l':\n",
        "                        salida.append(silaba + letras[j+1])\n",
        "                        silaba = ''\n",
        "                        j += 2\n",
        "                        continue\n",
        "                    salida.append(silaba)\n",
        "                    silaba = ''\n",
        "                    j+=1\n",
        "                    continue\n",
        "                else:\n",
        "                    if letras[j+2] == 's' and estructura[j+3] in 'LCO':\n",
        "                        salida.append(silaba + letras[j+1] + letras[j+2])\n",
        "                        silaba = ''\n",
        "                        j += 3\n",
        "                        continue\n",
        "                    salida.append(silaba + letras[j+1])\n",
        "                    silaba = ''\n",
        "                    j += 2\n",
        "                    continue\n",
        "            else:\n",
        "                if j+2 < len(letras):\n",
        "                    if estructura[j+2] in 'AI':\n",
        "                        salida.append(silaba)\n",
        "                        silaba = ''\n",
        "                        j+=1\n",
        "                        continue\n",
        "                    else:\n",
        "                        if letras[j+2] == 's' and estructura[j+3] in 'LCO':\n",
        "                            salida.append(silaba + letras[j+1] + letras[j+2])\n",
        "                            silaba = ''\n",
        "                            j += 3\n",
        "                            continue\n",
        "                        salida.append(silaba + letras[j+1])\n",
        "                        silaba = ''\n",
        "                        j += 2\n",
        "                        continue\n",
        "                else:\n",
        "                    salida.append(silaba + letras[j+1])\n",
        "                    silaba = ''\n",
        "                    j += 2\n",
        "                    continue\n",
        "        elif estructura[j] == 'O':\n",
        "            if estructura[j+1] in 'AIL':\n",
        "                j+=1\n",
        "                continue\n",
        "            else:\n",
        "                if letras[j+1] == '':\n",
        "                    salida.append(silaba)\n",
        "                    break\n",
        "                raise TypeError(\"Estructura de sílaba incorrecta en la palabra {0}\".format(word))\n",
        "        else:\n",
        "            if estructura[j+1] in 'AI':\n",
        "                j+=1\n",
        "                continue\n",
        "            else:\n",
        "                if letras[j+1] == '':\n",
        "                    salida.append(silaba)\n",
        "                    break\n",
        "                elif letras[j+1] == 's':\n",
        "                    salida.append(silaba)\n",
        "                    silaba = ''\n",
        "                    j+=1\n",
        "                    continue\n",
        "                raise TypeError(\"Estructura de sílaba incorrecta en la palabra {0}\".format(word))\n",
        "    return sep.join(salida)\n"
      ],
      "execution_count": 5,
      "outputs": [
        {
          "output_type": "stream",
          "text": [
            "Writing Silabas.py\n"
          ],
          "name": "stdout"
        }
      ]
    },
    {
      "metadata": {
        "id": "ubzkoshVXdyK",
        "colab_type": "text"
      },
      "cell_type": "markdown",
      "source": [
        "# Preprocess Corpus"
      ]
    },
    {
      "metadata": {
        "id": "xSRZ8DaoBLs_",
        "colab_type": "text"
      },
      "cell_type": "markdown",
      "source": [
        "## Imports"
      ]
    },
    {
      "metadata": {
        "id": "rj9t_TKwXZnt",
        "colab_type": "code",
        "colab": {
          "autoexec": {
            "startup": false,
            "wait_interval": 0
          }
        }
      },
      "cell_type": "code",
      "source": [
        "import re\n",
        "import operator\n",
        "#from separadorSilabas import silabas # github\n",
        "from Silabas import silabas # local"
      ],
      "execution_count": 0,
      "outputs": []
    },
    {
      "metadata": {
        "id": "WkHCphnUAZTB",
        "colab_type": "text"
      },
      "cell_type": "markdown",
      "source": [
        "### atracción"
      ]
    },
    {
      "metadata": {
        "id": "RIYAd1VA9nLc",
        "colab_type": "code",
        "colab": {
          "autoexec": {
            "startup": false,
            "wait_interval": 0
          },
          "output_extras": [
            {
              "item_id": 1
            }
          ],
          "base_uri": "https://localhost:8080/",
          "height": 305
        },
        "outputId": "53cec095-9e13-4250-e128-579b8ffb72f4",
        "executionInfo": {
          "status": "error",
          "timestamp": 1519195222441,
          "user_tz": 180,
          "elapsed": 910,
          "user": {
            "displayName": "Diego Valenzuela",
            "photoUrl": "//lh6.googleusercontent.com/-yC1S3sINJo8/AAAAAAAAAAI/AAAAAAAAAWQ/KjmnqiX4R_0/s50-c-k-no/photo.jpg",
            "userId": "105237571791367820180"
          }
        }
      },
      "cell_type": "code",
      "source": [
        "word_atraccion = 'atracción'\n",
        "silabas(word_atraccion)"
      ],
      "execution_count": 7,
      "outputs": [
        {
          "output_type": "error",
          "ename": "TypeError",
          "evalue": "ignored",
          "traceback": [
            "\u001b[0;31m\u001b[0m",
            "\u001b[0;31mTypeError\u001b[0mTraceback (most recent call last)",
            "\u001b[0;32m<ipython-input-7-2eba74b2be3f>\u001b[0m in \u001b[0;36m<module>\u001b[0;34m()\u001b[0m\n\u001b[1;32m      1\u001b[0m \u001b[0mword_atraccion\u001b[0m \u001b[0;34m=\u001b[0m \u001b[0;34m'atracción'\u001b[0m\u001b[0;34m\u001b[0m\u001b[0m\n\u001b[0;32m----> 2\u001b[0;31m \u001b[0msilabas\u001b[0m\u001b[0;34m(\u001b[0m\u001b[0mword_atraccion\u001b[0m\u001b[0;34m)\u001b[0m\u001b[0;34m\u001b[0m\u001b[0m\n\u001b[0m",
            "\u001b[0;32m/content/syllable-aware/Silabas.py\u001b[0m in \u001b[0;36msilabas\u001b[0;34m(word, sep)\u001b[0m\n\u001b[1;32m     84\u001b[0m             \u001b[0;32mcontinue\u001b[0m\u001b[0;34m\u001b[0m\u001b[0m\n\u001b[1;32m     85\u001b[0m         \u001b[0;32melse\u001b[0m\u001b[0;34m:\u001b[0m\u001b[0;34m\u001b[0m\u001b[0m\n\u001b[0;32m---> 86\u001b[0;31m             \u001b[0;32mraise\u001b[0m \u001b[0mTypeError\u001b[0m\u001b[0;34m(\u001b[0m\u001b[0;34m\"No se reconoce el carácter '{0}' como una letra del castellano.\"\u001b[0m\u001b[0;34m.\u001b[0m\u001b[0mformat\u001b[0m\u001b[0;34m(\u001b[0m\u001b[0mword\u001b[0m\u001b[0;34m[\u001b[0m\u001b[0mj\u001b[0m\u001b[0;34m]\u001b[0m\u001b[0;34m)\u001b[0m\u001b[0;34m)\u001b[0m\u001b[0;34m\u001b[0m\u001b[0m\n\u001b[0m\u001b[1;32m     87\u001b[0m     \u001b[0mestructura\u001b[0m \u001b[0;34m+=\u001b[0m \u001b[0;34m'C'\u001b[0m\u001b[0;34m\u001b[0m\u001b[0m\n\u001b[1;32m     88\u001b[0m     \u001b[0mletras\u001b[0m\u001b[0;34m.\u001b[0m\u001b[0mappend\u001b[0m\u001b[0;34m(\u001b[0m\u001b[0;34m''\u001b[0m\u001b[0;34m)\u001b[0m\u001b[0;34m\u001b[0m\u001b[0m\n",
            "\u001b[0;31mTypeError\u001b[0m: No se reconoce el carácter '�' como una letra del castellano."
          ]
        }
      ]
    },
    {
      "metadata": {
        "id": "wkjmWjr4m2kd",
        "colab_type": "text"
      },
      "cell_type": "markdown",
      "source": [
        "## add_space_file"
      ]
    },
    {
      "metadata": {
        "id": "NxqLHBg1awvq",
        "colab_type": "code",
        "colab": {
          "autoexec": {
            "startup": false,
            "wait_interval": 0
          }
        }
      },
      "cell_type": "code",
      "source": [
        "def add_space_file(path_in, path_out):\n",
        "    with open(path_out, 'w') as f1:\n",
        "        with open(path_in) as f2:\n",
        "            for line in f2:\n",
        "                s = re.sub('([.,;:¿¡!?\"()\\´])', r' \\1 ', line)\n",
        "                s = re.sub('\\s{2,}', ' ', s)\n",
        "                f1.write(s+'\\n')"
      ],
      "execution_count": 0,
      "outputs": []
    },
    {
      "metadata": {
        "id": "rqSfs6p4br_E",
        "colab_type": "code",
        "colab": {
          "autoexec": {
            "startup": false,
            "wait_interval": 0
          }
        }
      },
      "cell_type": "code",
      "source": [
        "\n",
        "path_in = './data/horoscopo_test_overfitting.txt'\n",
        "path_out = './data/horoscopo_test_overfitting_spaces.txt'\n",
        "\n",
        "add_space_file(path_in = path_in,\n",
        "               path_out = path_out)"
      ],
      "execution_count": 0,
      "outputs": []
    },
    {
      "metadata": {
        "id": "KGW8hqtycQOH",
        "colab_type": "code",
        "colab": {
          "autoexec": {
            "startup": false,
            "wait_interval": 0
          }
        }
      },
      "cell_type": "code",
      "source": [
        "!ls data"
      ],
      "execution_count": 0,
      "outputs": []
    },
    {
      "metadata": {
        "id": "GeZrCu7mcT8V",
        "colab_type": "code",
        "colab": {
          "autoexec": {
            "startup": false,
            "wait_interval": 0
          }
        }
      },
      "cell_type": "code",
      "source": [
        "#!rm -R ./data/horoscopo_test_overfitting_spaces.txt\n",
        "#!ls data"
      ],
      "execution_count": 0,
      "outputs": []
    },
    {
      "metadata": {
        "id": "O3J0FgkwZvS3",
        "colab_type": "code",
        "colab": {
          "autoexec": {
            "startup": false,
            "wait_interval": 0
          }
        }
      },
      "cell_type": "code",
      "source": [
        "!ls data"
      ],
      "execution_count": 0,
      "outputs": []
    },
    {
      "metadata": {
        "id": "AIarGGvIm58M",
        "colab_type": "text"
      },
      "cell_type": "markdown",
      "source": [
        "## get_syllables"
      ]
    },
    {
      "metadata": {
        "id": "H_HYMDgSb4JF",
        "colab_type": "code",
        "colab": {
          "autoexec": {
            "startup": false,
            "wait_interval": 0
          }
        }
      },
      "cell_type": "code",
      "source": [
        "def get_syllables(word, middle, end):\n",
        "    '''Uses separadorSilabas to form a list of syllables\n",
        "    Raises TypeError:\n",
        "         if word is not separable i.e. if it's not a spanish word\n",
        "    Args:\n",
        "        word: string with the word to be separate\n",
        "        middle: char to be added at the end of the middle syllables\n",
        "        end: char to be added at the end of the end syllable\n",
        "    Returns:\n",
        "        List with syllables\n",
        "    '''\n",
        "    word_syllables = silabas(word).split('-')\n",
        "    word_syllables = [word + middle for word in word_syllables]\n",
        "    word_syllables[-1] = word_syllables[-1][0:-1] + end\n",
        "    \n",
        "    return word_syllables"
      ],
      "execution_count": 0,
      "outputs": []
    },
    {
      "metadata": {
        "id": "m98gSc1zdP4k",
        "colab_type": "code",
        "colab": {
          "autoexec": {
            "startup": false,
            "wait_interval": 0
          }
        }
      },
      "cell_type": "code",
      "source": [
        "word = 'palabra'\n",
        "\n",
        "get_syllables(word = word,\n",
        "              middle = '-',\n",
        "              end = ':')"
      ],
      "execution_count": 0,
      "outputs": []
    },
    {
      "metadata": {
        "id": "r3NNmoIQ9ZL3",
        "colab_type": "code",
        "colab": {
          "autoexec": {
            "startup": false,
            "wait_interval": 0
          }
        }
      },
      "cell_type": "code",
      "source": [
        "word = 'atracción'\n",
        "\n",
        "get_syllables(word = word,\n",
        "              middle = '-',\n",
        "              end = ':')"
      ],
      "execution_count": 0,
      "outputs": []
    },
    {
      "metadata": {
        "id": "g9B6rWSRm9Rf",
        "colab_type": "text"
      },
      "cell_type": "markdown",
      "source": [
        "## get_characters"
      ]
    },
    {
      "metadata": {
        "id": "GjmTv38HduLi",
        "colab_type": "code",
        "colab": {
          "autoexec": {
            "startup": false,
            "wait_interval": 0
          }
        }
      },
      "cell_type": "code",
      "source": [
        "def get_characters(syllable, middle = '-', end = ':'):\n",
        "  \n",
        "    letters = 'aáeéoóíúiuübcdfghjklmnñopqrstvwxyz'\n",
        "    s = []\n",
        "    \n",
        "    for letter in syllable:\n",
        "        if letter in letters:\n",
        "            s += [letter + middle]\n",
        "\n",
        "    if syllable[-1] == end:\n",
        "        s[-1] = s[-1].replace(middle, end)\n",
        "        \n",
        "    return s"
      ],
      "execution_count": 0,
      "outputs": []
    },
    {
      "metadata": {
        "id": "h40UhBs1ekrk",
        "colab_type": "code",
        "colab": {
          "autoexec": {
            "startup": false,
            "wait_interval": 0
          }
        }
      },
      "cell_type": "code",
      "source": [
        "syllable = 'palabra'\n",
        "\n",
        "get_characters(syllable = syllable,\n",
        "               middle = '-',\n",
        "               end = ':')"
      ],
      "execution_count": 0,
      "outputs": []
    },
    {
      "metadata": {
        "id": "75nZWfbTe0YA",
        "colab_type": "code",
        "colab": {
          "autoexec": {
            "startup": false,
            "wait_interval": 0
          }
        }
      },
      "cell_type": "code",
      "source": [
        "syllable = 'pa-'\n",
        "\n",
        "get_characters(syllable = syllable,\n",
        "               middle = '-',\n",
        "               end = ':')"
      ],
      "execution_count": 0,
      "outputs": []
    },
    {
      "metadata": {
        "id": "1K77MptwheLi",
        "colab_type": "code",
        "colab": {
          "autoexec": {
            "startup": false,
            "wait_interval": 0
          }
        }
      },
      "cell_type": "code",
      "source": [
        "syllable = 'bra:'\n",
        "\n",
        "get_characters(syllable = syllable,\n",
        "               middle = '-',\n",
        "               end = ':')"
      ],
      "execution_count": 0,
      "outputs": []
    },
    {
      "metadata": {
        "id": "SfydwiGp55_k",
        "colab_type": "text"
      },
      "cell_type": "markdown",
      "source": [
        "## punctuation, characters, to_ignore"
      ]
    },
    {
      "metadata": {
        "id": "nPuV6N_t4qj0",
        "colab_type": "code",
        "colab": {
          "autoexec": {
            "startup": false,
            "wait_interval": 0
          }
        }
      },
      "cell_type": "code",
      "source": [
        "# Punctuation\n",
        "\n",
        "map_punctuation = {'¿': '<ai>', '?': '<ci>', '.': '<pt>', '\\n': '<nl>', ',': '<cm>', '\"':'<qt>'}\n",
        "punctuation = set(map_punctuation)\n",
        "\n",
        "\n",
        "# Characters\n",
        "\n",
        "letters = 'aáeéoóíúiuübcdfghjklmnñopqrstvwxyz'\n",
        "letters += letters.upper()\n",
        "accepted_chars = set(letters)\n",
        "characters = accepted_chars\n",
        "\n",
        "\n",
        "# to_ignore\n",
        "\n",
        "sign_to_ignore=[]\n",
        "word_to_ignore=[]\n",
        "\n",
        "to_ignore = [i for i in punctuation]\n",
        "to_ignore = to_ignore + sign_to_ignore + word_to_ignore"
      ],
      "execution_count": 0,
      "outputs": []
    },
    {
      "metadata": {
        "id": "8Wgqam6xnBxu",
        "colab_type": "text"
      },
      "cell_type": "markdown",
      "source": [
        "## get_freq_words"
      ]
    },
    {
      "metadata": {
        "id": "R9eSEjPImaaw",
        "colab_type": "code",
        "colab": {
          "autoexec": {
            "startup": false,
            "wait_interval": 0
          }
        }
      },
      "cell_type": "code",
      "source": [
        "def get_freq_words(word, freq_word, to_ignore = []):\n",
        "    \n",
        "    if word in to_ignore:\n",
        "        return freq_word\n",
        "\n",
        "    if word in freq_word:\n",
        "        freq_word[word] += 1\n",
        "    else:\n",
        "        freq_word[word] = 1\n",
        "    \n",
        "    return freq_word"
      ],
      "execution_count": 0,
      "outputs": []
    },
    {
      "metadata": {
        "id": "k6-KHLzBhjdT",
        "colab_type": "code",
        "colab": {
          "autoexec": {
            "startup": false,
            "wait_interval": 0
          }
        }
      },
      "cell_type": "code",
      "source": [
        "freq_word = dict()\n",
        "\n",
        "word1 = 'hola'\n",
        "word2 = 'chabelalaila'\n"
      ],
      "execution_count": 0,
      "outputs": []
    },
    {
      "metadata": {
        "id": "g4XFPOe6nPo9",
        "colab_type": "code",
        "colab": {
          "autoexec": {
            "startup": false,
            "wait_interval": 0
          }
        }
      },
      "cell_type": "code",
      "source": [
        "get_freq_words(word = word1,\n",
        "               freq_word = freq_word,\n",
        "               to_ignore = to_ignore)"
      ],
      "execution_count": 0,
      "outputs": []
    },
    {
      "metadata": {
        "id": "r6OqsIXsmgIA",
        "colab_type": "code",
        "colab": {
          "autoexec": {
            "startup": false,
            "wait_interval": 0
          }
        }
      },
      "cell_type": "code",
      "source": [
        "get_freq_words(word = word1,\n",
        "               freq_word = freq_word,\n",
        "               to_ignore = to_ignore)"
      ],
      "execution_count": 0,
      "outputs": []
    },
    {
      "metadata": {
        "id": "jFnUhrrdmlRx",
        "colab_type": "code",
        "colab": {
          "autoexec": {
            "startup": false,
            "wait_interval": 0
          }
        }
      },
      "cell_type": "code",
      "source": [
        "get_freq_words(word = word2,\n",
        "               freq_word = freq_word,\n",
        "               to_ignore = to_ignore)"
      ],
      "execution_count": 0,
      "outputs": []
    },
    {
      "metadata": {
        "id": "LrWTWIeNsiBB",
        "colab_type": "text"
      },
      "cell_type": "markdown",
      "source": [
        "## word_to_syll"
      ]
    },
    {
      "metadata": {
        "id": "qYjO5BI9sjzV",
        "colab_type": "code",
        "colab": {
          "autoexec": {
            "startup": false,
            "wait_interval": 0
          }
        }
      },
      "cell_type": "code",
      "source": [
        "def word_to_syll(word, dict_word, to_ignore = [], middle='-', end=':'):\n",
        "  \n",
        "    if word in to_ignore:\n",
        "        return dict_word\n",
        "\n",
        "    if word not in dict_word:\n",
        "        try:\n",
        "            dict_word[word] = get_syllables(word, middle, end)\n",
        "        except TypeError:\n",
        "            print(\"word not considered for syllables: '{}'\".format(word))\n",
        "            \n",
        "    return dict_word"
      ],
      "execution_count": 0,
      "outputs": []
    },
    {
      "metadata": {
        "id": "YsckpCxztVVC",
        "colab_type": "code",
        "colab": {
          "autoexec": {
            "startup": false,
            "wait_interval": 0
          }
        }
      },
      "cell_type": "code",
      "source": [
        "dict_word = dict()"
      ],
      "execution_count": 0,
      "outputs": []
    },
    {
      "metadata": {
        "id": "lSg3Ikjmsvwq",
        "colab_type": "code",
        "colab": {
          "autoexec": {
            "startup": false,
            "wait_interval": 0
          }
        }
      },
      "cell_type": "code",
      "source": [
        "word_to_syll(word = word1,\n",
        "             dict_word = dict_word,\n",
        "             to_ignore = to_ignore)"
      ],
      "execution_count": 0,
      "outputs": []
    },
    {
      "metadata": {
        "id": "vEYpqd_DtHcF",
        "colab_type": "code",
        "colab": {
          "autoexec": {
            "startup": false,
            "wait_interval": 0
          }
        }
      },
      "cell_type": "code",
      "source": [
        "word_to_syll(word = word2,\n",
        "             dict_word = dict_word,\n",
        "             to_ignore = to_ignore)"
      ],
      "execution_count": 0,
      "outputs": []
    },
    {
      "metadata": {
        "id": "g-ig9WeM-QED",
        "colab_type": "text"
      },
      "cell_type": "markdown",
      "source": [
        "### atracción"
      ]
    },
    {
      "metadata": {
        "id": "A5Y0M3DY-Sid",
        "colab_type": "code",
        "colab": {
          "autoexec": {
            "startup": false,
            "wait_interval": 0
          }
        }
      },
      "cell_type": "code",
      "source": [
        "word_atraccion = 'atracción'\n",
        "\n",
        "dict_word_atraccion = dict()\n",
        "\n",
        "word_to_syll(word = word_atraccion,\n",
        "             dict_word = dict_word_atraccion,\n",
        "             to_ignore = to_ignore)\n",
        "\n",
        "\n"
      ],
      "execution_count": 0,
      "outputs": []
    },
    {
      "metadata": {
        "id": "9tP-OtCHtj4V",
        "colab_type": "text"
      },
      "cell_type": "markdown",
      "source": [
        "## syll_to_char"
      ]
    },
    {
      "metadata": {
        "id": "cqmAgb1ytlKp",
        "colab_type": "code",
        "colab": {
          "autoexec": {
            "startup": false,
            "wait_interval": 0
          }
        }
      },
      "cell_type": "code",
      "source": [
        "def syll_to_charac(word, dict_syll, dict_word, to_ignore = [], middle='-', end=':'):\n",
        "  \n",
        "    if word in to_ignore:\n",
        "        return dict_syll\n",
        "      \n",
        "    try:\n",
        "        syllables = dict_word[word]\n",
        "    except KeyError:\n",
        "        print(\"word not exist in dictionary: '{}'\".format(word))\n",
        "        return dict_syll\n",
        "\n",
        "    for syll in syllables:\n",
        "        if syll not in dict_syll:\n",
        "            dict_syll[syll] = get_characters(syll, middle, end)\n",
        "\n",
        "    return dict_syll"
      ],
      "execution_count": 0,
      "outputs": []
    },
    {
      "metadata": {
        "id": "MmVhWu88tyCq",
        "colab_type": "code",
        "colab": {
          "autoexec": {
            "startup": false,
            "wait_interval": 0
          }
        }
      },
      "cell_type": "code",
      "source": [
        "dict_syll = dict()"
      ],
      "execution_count": 0,
      "outputs": []
    },
    {
      "metadata": {
        "id": "WccpMu1btx9C",
        "colab_type": "code",
        "colab": {
          "autoexec": {
            "startup": false,
            "wait_interval": 0
          }
        }
      },
      "cell_type": "code",
      "source": [
        "syll_to_charac(word = word1,\n",
        "               dict_syll = dict_syll,\n",
        "               dict_word = dict_word,\n",
        "               to_ignore = to_ignore)"
      ],
      "execution_count": 0,
      "outputs": []
    },
    {
      "metadata": {
        "id": "Tc9iONLntx2z",
        "colab_type": "code",
        "colab": {
          "autoexec": {
            "startup": false,
            "wait_interval": 0
          }
        }
      },
      "cell_type": "code",
      "source": [
        "syll_to_charac(word = word2,\n",
        "               dict_syll = dict_syll,\n",
        "               dict_word = dict_word,\n",
        "               to_ignore = to_ignore)"
      ],
      "execution_count": 0,
      "outputs": []
    },
    {
      "metadata": {
        "id": "TECPIWf1qqR-",
        "colab_type": "text"
      },
      "cell_type": "markdown",
      "source": [
        "## get_freq_syllables"
      ]
    },
    {
      "metadata": {
        "id": "pL4gERdtqSKK",
        "colab_type": "code",
        "colab": {
          "autoexec": {
            "startup": false,
            "wait_interval": 0
          }
        }
      },
      "cell_type": "code",
      "source": [
        "def get_freq_syllables(freq_word, dict_word, to_ignore = []):\n",
        "  \n",
        "    freq_syll = dict()\n",
        "    \n",
        "    for k,v in freq_word.items():\n",
        "        if k in to_ignore:\n",
        "            pass\n",
        "\n",
        "        try:\n",
        "            syllables = dict_word[k]\n",
        "        except KeyError:\n",
        "            continue\n",
        "\n",
        "        for s in syllables:\n",
        "            if s in freq_syll:\n",
        "                freq_syll[s] += v\n",
        "            else:\n",
        "                freq_syll[s] = v\n",
        "    \n",
        "    return freq_syll"
      ],
      "execution_count": 0,
      "outputs": []
    },
    {
      "metadata": {
        "id": "N4gqIHaPrHGn",
        "colab_type": "code",
        "colab": {
          "autoexec": {
            "startup": false,
            "wait_interval": 0
          }
        }
      },
      "cell_type": "code",
      "source": [
        "get_freq_syllables(freq_word = freq_word,\n",
        "                   dict_word = dict_word,\n",
        "                   to_ignore = to_ignore)"
      ],
      "execution_count": 0,
      "outputs": []
    },
    {
      "metadata": {
        "id": "JZsjLDUpwdop",
        "colab_type": "text"
      },
      "cell_type": "markdown",
      "source": [
        "## tokenize_corpus"
      ]
    },
    {
      "metadata": {
        "id": "cYivfAv1wc-G",
        "colab_type": "code",
        "colab": {
          "autoexec": {
            "startup": false,
            "wait_interval": 0
          }
        }
      },
      "cell_type": "code",
      "source": [
        "def tokenize_corpus(path_file, to_ignore = []):\n",
        "  \n",
        "    dict_word = dict()\n",
        "    dict_syll = dict()\n",
        "    freq_word = dict()\n",
        "    \n",
        "    with open(path_file, 'r') as f1:\n",
        "    \n",
        "        for line in f1:\n",
        "            words = line.lower().split()\n",
        "            \n",
        "            for w in words:\n",
        "              \n",
        "                dict_word = word_to_syll(w, dict_word, to_ignore)\n",
        "                dict_syll = syll_to_charac(w, dict_syll, dict_word, to_ignore)\n",
        "                freq_word = get_freq_words(w, freq_word, to_ignore)\n",
        "                \n",
        "    freq_syll = get_freq_syllables(freq_word, dict_word, to_ignore)\n",
        "\n",
        "    return dict_word, dict_syll, freq_word, freq_syll"
      ],
      "execution_count": 0,
      "outputs": []
    },
    {
      "metadata": {
        "id": "G-rVdP1Ivmh3",
        "colab_type": "code",
        "colab": {
          "autoexec": {
            "startup": false,
            "wait_interval": 0
          }
        }
      },
      "cell_type": "code",
      "source": [
        "dict_word, dict_syll, freq_word, freq_syll = tokenize_corpus(path_file = path_out,\n",
        "                                                             to_ignore = to_ignore)"
      ],
      "execution_count": 0,
      "outputs": []
    },
    {
      "metadata": {
        "id": "bteQYDS30Tt9",
        "colab_type": "code",
        "colab": {
          "autoexec": {
            "startup": false,
            "wait_interval": 0
          }
        }
      },
      "cell_type": "code",
      "source": [
        "dict_word"
      ],
      "execution_count": 0,
      "outputs": []
    },
    {
      "metadata": {
        "id": "XAlrK2Ha0YHr",
        "colab_type": "code",
        "colab": {
          "autoexec": {
            "startup": false,
            "wait_interval": 0
          }
        }
      },
      "cell_type": "code",
      "source": [
        "dict_syll"
      ],
      "execution_count": 0,
      "outputs": []
    },
    {
      "metadata": {
        "id": "pOvp4ioN0aQJ",
        "colab_type": "code",
        "colab": {
          "autoexec": {
            "startup": false,
            "wait_interval": 0
          }
        }
      },
      "cell_type": "code",
      "source": [
        "freq_word"
      ],
      "execution_count": 0,
      "outputs": []
    },
    {
      "metadata": {
        "id": "k4K_ijvu0aKP",
        "colab_type": "code",
        "colab": {
          "autoexec": {
            "startup": false,
            "wait_interval": 0
          }
        }
      },
      "cell_type": "code",
      "source": [
        "freq_syll"
      ],
      "execution_count": 0,
      "outputs": []
    },
    {
      "metadata": {
        "id": "yt2ZKSPq4Eb3",
        "colab_type": "text"
      },
      "cell_type": "markdown",
      "source": [
        "## get_most_frequent"
      ]
    },
    {
      "metadata": {
        "id": "OfKgkV3xw5yQ",
        "colab_type": "code",
        "colab": {
          "autoexec": {
            "startup": false,
            "wait_interval": 0
          }
        }
      },
      "cell_type": "code",
      "source": [
        "def get_most_frequent(freq_dict, quantity, to_ignore = []):\n",
        "  \n",
        "    '''Selects most frequent tokens.\n",
        "    Args:\n",
        "        freq_dict: list of tokens and frequent in corpus from where to select\n",
        "        quantity: number that indicates the elements to be select from the list, if it's between [0,1] it's used as percentage\n",
        "    Returns:\n",
        "        set of length less than or equal to quantity (percentage*len(different tokens)) containing the most frequent tokens\n",
        "    '''\n",
        "    \n",
        "    most_freq = set()\n",
        "    max_tokens = int(len(freq_dict)*quantity) if quantity <= 1 else quantity\n",
        "    #order = sorted(freq_dict.items(), key=freq_dict.get, reverse=True)\n",
        "    \n",
        "    for token, freq in sorted(freq_dict.items(), key=operator.itemgetter(1), reverse=True):\n",
        "      \n",
        "        if len(most_freq) < max_tokens:\n",
        "           if token not in to_ignore:\n",
        "                most_freq.add(token)\n",
        "                \n",
        "    return most_freq"
      ],
      "execution_count": 0,
      "outputs": []
    },
    {
      "metadata": {
        "id": "iG2Ui8gJzmk7",
        "colab_type": "code",
        "colab": {
          "autoexec": {
            "startup": false,
            "wait_interval": 0
          }
        }
      },
      "cell_type": "code",
      "source": [
        "quantity_words = 50\n",
        "\n",
        "words = get_most_frequent(freq_dict = freq_word,\n",
        "                          quantity = quantity_words,\n",
        "                          to_ignore = to_ignore)\n",
        "\n",
        "\n",
        "quantity_syll = 1000\n",
        "\n",
        "syllables = get_most_frequent(freq_dict = freq_syll,\n",
        "                              quantity = quantity_syll,\n",
        "                              to_ignore = [w for w in words]) # Count syllables ignoring the most frequent words"
      ],
      "execution_count": 0,
      "outputs": []
    },
    {
      "metadata": {
        "id": "U5cv0KyA5qsH",
        "colab_type": "code",
        "colab": {
          "autoexec": {
            "startup": false,
            "wait_interval": 0
          }
        }
      },
      "cell_type": "code",
      "source": [
        "words"
      ],
      "execution_count": 0,
      "outputs": []
    },
    {
      "metadata": {
        "id": "pLuUUFIg32u0",
        "colab_type": "code",
        "colab": {
          "autoexec": {
            "startup": false,
            "wait_interval": 0
          }
        }
      },
      "cell_type": "code",
      "source": [
        "syllables"
      ],
      "execution_count": 0,
      "outputs": []
    },
    {
      "metadata": {
        "id": "iPHcHP4d761y",
        "colab_type": "code",
        "colab": {
          "autoexec": {
            "startup": false,
            "wait_interval": 0
          }
        }
      },
      "cell_type": "code",
      "source": [
        ""
      ],
      "execution_count": 0,
      "outputs": []
    }
  ]
}